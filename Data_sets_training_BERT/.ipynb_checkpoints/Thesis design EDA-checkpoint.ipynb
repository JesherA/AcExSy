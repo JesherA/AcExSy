{
 "cells": [
  {
   "cell_type": "code",
   "execution_count": null,
   "id": "62a75cfa",
   "metadata": {},
   "outputs": [],
   "source": [
    "import pandas as pd\n",
    "import numpy as np\n",
    "import plotly.express as px\n",
    "from plotly.subplots import make_subplots"
   ]
  },
  {
   "cell_type": "markdown",
   "id": "da41d3e2",
   "metadata": {},
   "source": [
    "## Loading Veyseh sentence data"
   ]
  },
  {
   "cell_type": "code",
   "execution_count": null,
   "id": "c62a8cb9",
   "metadata": {},
   "outputs": [],
   "source": [
    "# links to the data \n",
    "legal_data_link = 'https://raw.githubusercontent.com/amirveyseh/AAAI-22-SDU-shared-task-1-AE/main/data/english/legal/train.json'\n",
    "scientific_data_link = 'https://raw.githubusercontent.com/amirveyseh/AAAI-22-SDU-shared-task-1-AE/main/data/english/scientific/train.json'\n",
    "\n",
    "# scientific data\n",
    "scientific_data = pd.read_json(scientific_data_link)\n",
    "scientific_data.set_index('ID',inplace=True)\n",
    "\n",
    "# legal data\n",
    "legal_data = pd.read_json(legal_data_link)\n",
    "legal_data.set_index('ID',inplace=True)"
   ]
  },
  {
   "cell_type": "code",
   "execution_count": null,
   "id": "ede8df72",
   "metadata": {},
   "outputs": [],
   "source": [
    "scientific_data.head(10)"
   ]
  },
  {
   "cell_type": "code",
   "execution_count": null,
   "id": "b9ab08ca",
   "metadata": {},
   "outputs": [],
   "source": [
    "## creating a list with the acronyms in text"
   ]
  },
  {
   "cell_type": "code",
   "execution_count": null,
   "id": "97e96ded",
   "metadata": {},
   "outputs": [],
   "source": [
    "scientific_data = scientific_data.head(10)"
   ]
  },
  {
   "cell_type": "code",
   "execution_count": null,
   "id": "53de69f3",
   "metadata": {},
   "outputs": [],
   "source": [
    "for index, row in scientific_data.iterrows():\n",
    "    acro = []\n",
    "\n",
    "    for i, j in row['acronyms']:\n",
    "        acro.append(row.text[i:j])\n",
    "\n",
    "    \n",
    "    scientific_data.loc[index, 'short_form'] = acro\n",
    "\n"
   ]
  },
  {
   "cell_type": "code",
   "execution_count": null,
   "id": "949d6195",
   "metadata": {},
   "outputs": [],
   "source": [
    "scientific_data"
   ]
  },
  {
   "cell_type": "code",
   "execution_count": null,
   "id": "5e3f49d8",
   "metadata": {},
   "outputs": [],
   "source": [
    "# to do's: \n",
    "# - look for a way to return the indexis of the matching short forms "
   ]
  },
  {
   "cell_type": "code",
   "execution_count": null,
   "id": "fbd051c0",
   "metadata": {},
   "outputs": [],
   "source": [
    "test = scientific_data['short_form'].to_list()"
   ]
  },
  {
   "cell_type": "code",
   "execution_count": null,
   "id": "2e3df186",
   "metadata": {
    "scrolled": false
   },
   "outputs": [],
   "source": [
    "for index, row in scientific_data.iterrows():\n",
    "    row_index = []\n",
    "    for i in test:\n",
    "        for j in i:\n",
    "            if j in row.text:\n",
    "                row_index.append(index)\n",
    "\n",
    "                scientific_data.loc[index, 'row_index'] = row_index\n",
    "            else:\n",
    "                pass"
   ]
  },
  {
   "cell_type": "code",
   "execution_count": null,
   "id": "115fefea",
   "metadata": {},
   "outputs": [],
   "source": []
  },
  {
   "cell_type": "code",
   "execution_count": null,
   "id": "218f12ea",
   "metadata": {},
   "outputs": [],
   "source": [
    "sdu = pd.read_json('train_OG.json')\n",
    "print(len(sdu['expansion']))\n",
    "sdu = sdu.head(50)"
   ]
  },
  {
   "cell_type": "code",
   "execution_count": null,
   "id": "782e4de2",
   "metadata": {
    "scrolled": true
   },
   "outputs": [],
   "source": [
    "sdu.head()"
   ]
  },
  {
   "cell_type": "code",
   "execution_count": null,
   "id": "a26b5019",
   "metadata": {},
   "outputs": [],
   "source": [
    "sdu['tokens'][5][4]"
   ]
  },
  {
   "cell_type": "code",
   "execution_count": null,
   "id": "178adfd2",
   "metadata": {},
   "outputs": [],
   "source": [
    "for index, row in sdu.iterrows():\n",
    "    acro = []\n",
    "    sdu.loc[index, 'short_form'] = row.tokens[row.acronym]\n",
    "\n"
   ]
  },
  {
   "cell_type": "code",
   "execution_count": null,
   "id": "9e9c5388",
   "metadata": {},
   "outputs": [],
   "source": [
    "sdu"
   ]
  },
  {
   "cell_type": "code",
   "execution_count": null,
   "id": "8b4b81af",
   "metadata": {},
   "outputs": [],
   "source": [
    "for index, row in sdu.iterrows():\n",
    "    index_list = []\n",
    "    \n",
    "#     if row.short_form in row.tokens:\n",
    "#         print(index)\n",
    "#         print(index_list)\n",
    "#         index_list.append(index)\n",
    "    else:\n",
    "        pass\n",
    "    \n",
    "#     sdu.loc[index, 'match_index'] = index_list\n",
    "        \n",
    "        "
   ]
  },
  {
   "cell_type": "code",
   "execution_count": null,
   "id": "9dd2664a",
   "metadata": {},
   "outputs": [],
   "source": [
    "sdu\n",
    "test = [sdu[sdu['short_form'].str.contains('CNN')].index]\n",
    "test"
   ]
  },
  {
   "cell_type": "code",
   "execution_count": null,
   "id": "37118ef2",
   "metadata": {},
   "outputs": [],
   "source": [
    "sdu[sdu['short_form'].str.contains('ARA')]"
   ]
  },
  {
   "cell_type": "code",
   "execution_count": null,
   "id": "c8a772f4",
   "metadata": {},
   "outputs": [],
   "source": [
    "sdu_2 = sdu[['expansion','tokens','short_form']]\n",
    "sdu[['expansion','tokens','short_form']] = sdu[['expansion','tokens','short_form']].astype(\"string\")\n",
    "sdu_2[['expansion','tokens','short_form']]= sdu_2[['expansion','tokens','short_form']].astype(\"string\")\n",
    "sdu.dtypes"
   ]
  },
  {
   "cell_type": "code",
   "execution_count": null,
   "id": "ee4fda98",
   "metadata": {},
   "outputs": [],
   "source": [
    "sdu_combi = sdu.merge(sdu_2, how='outer', on='expansion')\n",
    "sdu_combi['pair'] = np.where(sdu_combi['tokens_x']== sdu_combi['tokens_y'], 0, 1)"
   ]
  },
  {
   "cell_type": "code",
   "execution_count": null,
   "id": "4b0a92ee",
   "metadata": {},
   "outputs": [],
   "source": [
    "len(sdu_combi)"
   ]
  },
  {
   "cell_type": "code",
   "execution_count": null,
   "id": "7ca102c0",
   "metadata": {},
   "outputs": [],
   "source": [
    "sdu_combi"
   ]
  },
  {
   "cell_type": "code",
   "execution_count": null,
   "id": "cd05b288",
   "metadata": {},
   "outputs": [],
   "source": [
    "sentence_pairs = sdu_combi[sdu_combi['pair'] == 1]"
   ]
  },
  {
   "cell_type": "code",
   "execution_count": null,
   "id": "c174e749",
   "metadata": {},
   "outputs": [],
   "source": [
    "sentence_pairs"
   ]
  },
  {
   "cell_type": "code",
   "execution_count": null,
   "id": "3b90f71f",
   "metadata": {},
   "outputs": [],
   "source": [
    "# Creating sentence pairs from the SDU dataset"
   ]
  },
  {
   "cell_type": "code",
   "execution_count": null,
   "id": "3055b197",
   "metadata": {},
   "outputs": [],
   "source": [
    "# Loading data\n",
    "sdu = pd.read_json('train_OG.json')\n",
    "print(\"Number of data points:{}\".format(len(sdu['expansion'])))\n",
    "\n",
    "# Extracting the acronyms in words\n",
    "for index, row in sdu.iterrows():\n",
    "    acro = []\n",
    "    sdu.loc[index, 'short_form'] = row.tokens[row.acronym]\n",
    "    \n",
    "# Creating a copy and propper data types\n",
    "sdu_copy = sdu[['expansion','tokens','short_form']]\n",
    "sdu[['expansion','tokens','short_form']] = sdu[['expansion','tokens','short_form']].astype(\"string\")\n",
    "sdu_copy = sdu_copy.astype({'expansion': str,'tokens': str,'short_form': str}, errors='raise') \n",
    "\n",
    "# Merging the two dataframes\n",
    "sdu_combi = sdu.merge(sdu_copy, how='outer', on='expansion')\n",
    "del sdu_copy\n",
    "\n",
    "# # finding the different sentence pairs\n",
    "sdu_combi['pair'] = np.where(sdu_combi['tokens_x'] == sdu_combi['tokens_y'], 0, 1)\n",
    "print('number of pairs: {}'.format(len(sdu_combi[sdu_combi['pair'] == 1])))"
   ]
  },
  {
   "cell_type": "code",
   "execution_count": null,
   "id": "0fa84909",
   "metadata": {},
   "outputs": [],
   "source": [
    "sdu_combi"
   ]
  },
  {
   "cell_type": "code",
   "execution_count": null,
   "id": "a63a5c8a",
   "metadata": {},
   "outputs": [],
   "source": [
    "sdu_combi[sdu_combi['pair'] == 1]"
   ]
  },
  {
   "cell_type": "code",
   "execution_count": null,
   "id": "bd79f765",
   "metadata": {},
   "outputs": [],
   "source": [
    "test = sdu_combi[sdu_combi['pair'] == 0]"
   ]
  },
  {
   "cell_type": "code",
   "execution_count": 49,
   "id": "ccfc274c",
   "metadata": {},
   "outputs": [
    {
     "name": "stdout",
     "output_type": "stream",
     "text": [
      "Number of data points:50034\n",
      "number of acronym matched pairs: 60001\n",
      "Number of acronym matched pairs in final csv: 60001\n",
      "Number of acronym miss matched pairs in final csv: 50031\n"
     ]
    }
   ],
   "source": [
    "import random\n",
    "import pandas as pd\n",
    "import numpy as np\n",
    "import matplotlib.pyplot as plt\n",
    "\n",
    "# Loading data\n",
    "sdu = pd.read_json('train_OG.json')\n",
    "print(\"Number of data points:{}\".format(len(sdu['expansion'])))\n",
    "\n",
    "# Extracting the acronyms in words\n",
    "for index, row in sdu.iterrows():\n",
    "    acro = []\n",
    "    sdu.loc[index, 'short_form'] = row.tokens[row.acronym]\n",
    "    \n",
    "# Creating a copy and propper data types\n",
    "sdu_copy = sdu[['expansion','tokens','short_form']]\n",
    "sdu[['expansion','tokens','short_form']] = sdu[['expansion','tokens','short_form']].astype(\"string\")\n",
    "sdu_copy = sdu_copy.astype({'expansion': str,'tokens': str,'short_form': str}, errors='raise') \n",
    "\n",
    "\n",
    "# Merging the two dataframes\n",
    "sdu_combi = sdu.merge(sdu_copy, how='outer', on='expansion')\n",
    "\n",
    "\n",
    "# # finding the different sentence pairs\n",
    "sdu_combi['pair'] = np.where(sdu_combi['tokens_x'] == sdu_combi['tokens_y'], 0, 1)\n",
    "sdu_combi =sdu_combi[sdu_combi['pair'] == 1]\n",
    "sdu_combi =sdu_combi.sample(n=60001)\n",
    "print('number of acronym matched pairs: {}'.format(len(sdu_combi[sdu_combi['pair'] == 1])))\n",
    "#########################\n",
    "\n",
    "sdu_copy = sdu_copy.sample(frac=1)\n",
    "# creating a temporary index with shift\n",
    "sdu_copy['index1'] = sdu_copy.index + 3\n",
    "sdu['index1'] = sdu.index\n",
    "\n",
    "# Joining the two dataframes\n",
    "sdu_combi_mix = sdu.merge(sdu_copy, how='left', on='index1')\n",
    "sdu_combi_mix.dropna(inplace=True)\n",
    "sdu_combi_mix = sdu_combi_mix.drop(columns=['index1', 'expansion_y'])\n",
    "sdu_combi_mix['pair'] = np.where(sdu_combi_mix['tokens_x'] == sdu_combi_mix['tokens_y'], 1, 0)\n",
    "sdu_combi_mix = sdu_combi_mix[sdu_combi_mix['pair'] == 0]\n",
    "\n",
    "\n",
    "sdu_master = pd.concat([sdu_combi,sdu_combi_mix], axis=0)\n",
    "sdu_master = sdu_master.drop(columns=['expansion_x', 'id'])\n",
    "sdu_master.reset_index(inplace=True)\n",
    "# print(sdu_master.head())\n",
    "\n",
    "\n",
    "print('Number of acronym matched pairs in final csv: {}'.format(len(sdu_master[sdu_master['pair'] == 1])))\n",
    "print('Number of acronym mismatched pairs in final csv: {}'.format(len(sdu_master[sdu_master['pair'] == 0])))\n",
    "# print(sdu_master.head().to_string())\n",
    "\n",
    "# saving df as csv\n",
    "sdu_master.to_csv('SDU-AAAI-AD_sentence_pairs_BERT.csv')\n",
    "sdu_master.to_json('SDU-AAAI-AD_sentence_pairs_BERT.json')\n",
    "del sdu_copy, sdu, sdu_combi_mix, sdu_master"
   ]
  },
  {
   "cell_type": "code",
   "execution_count": 48,
   "id": "1a19bbdd",
   "metadata": {},
   "outputs": [
    {
     "name": "stdout",
     "output_type": "stream",
     "text": [
      "60001\n",
      "50031\n",
      "110032\n"
     ]
    },
    {
     "data": {
      "text/plain": [
       "<BarContainer object of 2 artists>"
      ]
     },
     "execution_count": 48,
     "metadata": {},
     "output_type": "execute_result"
    },
    {
     "data": {
      "image/png": "[encoded data removed]",
      "text/plain": [
       "<Figure size 432x288 with 1 Axes>"
      ]
     },
     "metadata": {
      "needs_background": "light"
     },
     "output_type": "display_data"
    }
   ],
   "source": [
    "sdu_master.head()\n",
    "sdu_master_1 = sdu_master[sdu_master['pair'] == 1]\n",
    "sdu_master_0 = sdu_master[sdu_master['pair'] == 0]\n",
    "print(len(sdu_master_1))\n",
    "print(len(sdu_master_0))\n",
    "print(len(sdu_master))\n",
    "\n",
    "\n",
    "plt.bar(x=[1,2],height=sdu_master['pair'].value_counts())\n",
    "\n",
    "\n",
    "# plt.bar(sdu_master, 'pair')"
   ]
  },
  {
   "cell_type": "code",
   "execution_count": 34,
   "id": "ccff87b9",
   "metadata": {},
   "outputs": [
    {
     "data": {
      "text/html": [
       "<div>\n",
       "<style scoped>\n",
       "    .dataframe tbody tr th:only-of-type {\n",
       "        vertical-align: middle;\n",
       "    }\n",
       "\n",
       "    .dataframe tbody tr th {\n",
       "        vertical-align: top;\n",
       "    }\n",
       "\n",
       "    .dataframe thead th {\n",
       "        text-align: right;\n",
       "    }\n",
       "</style>\n",
       "<table border=\"1\" class=\"dataframe\">\n",
       "  <thead>\n",
       "    <tr style=\"text-align: right;\">\n",
       "      <th></th>\n",
       "      <th>index</th>\n",
       "      <th>acronym</th>\n",
       "      <th>expansion</th>\n",
       "      <th>tokens_x</th>\n",
       "      <th>short_form_x</th>\n",
       "      <th>tokens_y</th>\n",
       "      <th>short_form_y</th>\n",
       "      <th>pair</th>\n",
       "    </tr>\n",
       "  </thead>\n",
       "  <tbody>\n",
       "    <tr>\n",
       "      <th>0</th>\n",
       "      <td>9960200</td>\n",
       "      <td>3</td>\n",
       "      <td>reinforcement learning</td>\n",
       "      <td>['That', 'is', ',', 'RL', '-', 'GAN', '-', 'Ne...</td>\n",
       "      <td>RL</td>\n",
       "      <td>['While', 'common', 'optimization', 'methods',...</td>\n",
       "      <td>RL</td>\n",
       "      <td>1</td>\n",
       "    </tr>\n",
       "    <tr>\n",
       "      <th>1</th>\n",
       "      <td>3770489</td>\n",
       "      <td>4</td>\n",
       "      <td>convolutional neural network</td>\n",
       "      <td>['Ji', 'presented', 'a', '3D', 'CNN', 'model',...</td>\n",
       "      <td>CNN</td>\n",
       "      <td>['The', 'primary', 'contributions', 'of', 'thi...</td>\n",
       "      <td>CNN</td>\n",
       "      <td>1</td>\n",
       "    </tr>\n",
       "    <tr>\n",
       "      <th>2</th>\n",
       "      <td>1875539</td>\n",
       "      <td>7</td>\n",
       "      <td>convolutional neural network</td>\n",
       "      <td>['constructs', 'experiments', 'on', 'a', 'char...</td>\n",
       "      <td>CNN</td>\n",
       "      <td>['Proposed', 'Methodology', ':', 'MAT', '-', '...</td>\n",
       "      <td>CNN</td>\n",
       "      <td>1</td>\n",
       "    </tr>\n",
       "    <tr>\n",
       "      <th>3</th>\n",
       "      <td>12413637</td>\n",
       "      <td>1</td>\n",
       "      <td>test case prioritization</td>\n",
       "      <td>['The', 'TCP', 'problem', 'is', 'formally', 'd...</td>\n",
       "      <td>TCP</td>\n",
       "      <td>['Our', 'proposed', 'approach', 'is', 'a', 'ge...</td>\n",
       "      <td>TCP</td>\n",
       "      <td>1</td>\n",
       "    </tr>\n",
       "    <tr>\n",
       "      <th>4</th>\n",
       "      <td>4090091</td>\n",
       "      <td>12</td>\n",
       "      <td>convolutional neural network</td>\n",
       "      <td>['As', 'expected', ',', 'rear', 'view', 'idlin...</td>\n",
       "      <td>CNN</td>\n",
       "      <td>['table[H', ']', 'tabularccccccc', '&amp;', '2c80'...</td>\n",
       "      <td>CNN</td>\n",
       "      <td>1</td>\n",
       "    </tr>\n",
       "  </tbody>\n",
       "</table>\n",
       "</div>"
      ],
      "text/plain": [
       "      index  acronym                     expansion  \\\n",
       "0   9960200        3        reinforcement learning   \n",
       "1   3770489        4  convolutional neural network   \n",
       "2   1875539        7  convolutional neural network   \n",
       "3  12413637        1      test case prioritization   \n",
       "4   4090091       12  convolutional neural network   \n",
       "\n",
       "                                            tokens_x short_form_x  \\\n",
       "0  ['That', 'is', ',', 'RL', '-', 'GAN', '-', 'Ne...           RL   \n",
       "1  ['Ji', 'presented', 'a', '3D', 'CNN', 'model',...          CNN   \n",
       "2  ['constructs', 'experiments', 'on', 'a', 'char...          CNN   \n",
       "3  ['The', 'TCP', 'problem', 'is', 'formally', 'd...          TCP   \n",
       "4  ['As', 'expected', ',', 'rear', 'view', 'idlin...          CNN   \n",
       "\n",
       "                                            tokens_y short_form_y  pair  \n",
       "0  ['While', 'common', 'optimization', 'methods',...           RL     1  \n",
       "1  ['The', 'primary', 'contributions', 'of', 'thi...          CNN     1  \n",
       "2  ['Proposed', 'Methodology', ':', 'MAT', '-', '...          CNN     1  \n",
       "3  ['Our', 'proposed', 'approach', 'is', 'a', 'ge...          TCP     1  \n",
       "4  ['table[H', ']', 'tabularccccccc', '&', '2c80'...          CNN     1  "
      ]
     },
     "execution_count": 34,
     "metadata": {},
     "output_type": "execute_result"
    }
   ],
   "source": [
    "sdu_master.head()"
   ]
  },
  {
   "cell_type": "code",
   "execution_count": null,
   "id": "eed918ba",
   "metadata": {},
   "outputs": [],
   "source": [
    "sdu_combi.head()"
   ]
  },
  {
   "cell_type": "code",
   "execution_count": null,
   "id": "c2a9cada",
   "metadata": {},
   "outputs": [],
   "source": [
    "sdu_combi_mix.head()"
   ]
  },
  {
   "cell_type": "code",
   "execution_count": 43,
   "id": "b215cd75",
   "metadata": {},
   "outputs": [
    {
     "data": {
      "text/plain": [
       "1    60001\n",
       "0    50031\n",
       "Name: pair, dtype: int64"
      ]
     },
     "execution_count": 43,
     "metadata": {},
     "output_type": "execute_result"
    }
   ],
   "source": [
    "sdu_master['pair'].value_counts()"
   ]
  },
  {
   "cell_type": "code",
   "execution_count": null,
   "id": "90ba4e39",
   "metadata": {},
   "outputs": [],
   "source": []
  },
  {
   "cell_type": "code",
   "execution_count": null,
   "id": "e9bc9550",
   "metadata": {},
   "outputs": [],
   "source": [
    "import random\n",
    "\n",
    "sdu_copy = sdu_copy.sample(frac=1)\n",
    "sdu_copy['index1'] = sdu_copy.index + 3\n",
    "sdu['index1'] = sdu.index\n",
    "\n",
    "# sdu_combi_mix = sdu.join(sdu_copy, how='outer', rsuffix='_y', sort=False)\n",
    "sdu_combi_mix = sdu.merge(sdu_copy, how='left', on='index1')\n",
    "sdu_combi_mix.dropna(inplace=True)\n",
    "sdu_combi_mix = sdu_combi_mix.drop(columns=['acronym', 'id', 'index1'])\n",
    "sdu_combi_mix['pair'] = np.where(sdu_combi_mix['tokens_x'] == sdu_combi_mix['tokens_y'], 1, 0)\n",
    "\n",
    "\n",
    "sdu_master = pd.concat([sdu_combi,sdu_combi_mix], axis=0)"
   ]
  },
  {
   "cell_type": "code",
   "execution_count": null,
   "id": "24b235e5",
   "metadata": {},
   "outputs": [],
   "source": [
    "sdu_combi_mix"
   ]
  },
  {
   "cell_type": "code",
   "execution_count": null,
   "id": "d6cb1682",
   "metadata": {},
   "outputs": [],
   "source": [
    "sdu_combi_mix[sdu_combi_mix['pair'] == 0]"
   ]
  },
  {
   "cell_type": "code",
   "execution_count": null,
   "id": "c0814361",
   "metadata": {},
   "outputs": [],
   "source": [
    "sdu_master = pd.concat([sdu_combi,sdu_combi_mix])"
   ]
  },
  {
   "cell_type": "code",
   "execution_count": null,
   "id": "7c7b8d7c",
   "metadata": {},
   "outputs": [],
   "source": [
    "sdu_master = pd.concat([sdu_combi,sdu_combi_mix], axis=0)"
   ]
  },
  {
   "cell_type": "code",
   "execution_count": null,
   "id": "4be706ca",
   "metadata": {},
   "outputs": [],
   "source": [
    "sdu_master\n",
    "print('number of pairs: {}'.format(len(sdu_master[sdu_master['pair'] == 1])))\n",
    "print('number of pairs: {}'.format(len(sdu_master[sdu_master['pair'] == 0])))"
   ]
  },
  {
   "cell_type": "code",
   "execution_count": null,
   "id": "6ede3921",
   "metadata": {},
   "outputs": [],
   "source": []
  }
 ],
 "metadata": {
  "kernelspec": {
   "display_name": "Python 3 (ipykernel)",
   "language": "python",
   "name": "python3"
  },
  "language_info": {
   "codemirror_mode": {
    "name": "ipython",
    "version": 3
   },
   "file_extension": ".py",
   "mimetype": "text/x-python",
   "name": "python",
   "nbconvert_exporter": "python",
   "pygments_lexer": "ipython3",
   "version": "3.8.12"
  }
 },
 "nbformat": 4,
 "nbformat_minor": 5
}
