{
 "cells": [
  {
   "cell_type": "markdown",
   "id": "90f514b9",
   "metadata": {},
   "source": [
    "# Creating a similarity pair dataset for BERT training"
   ]
  },
  {
   "cell_type": "markdown",
   "id": "ab3471bd",
   "metadata": {},
   "source": [
    "## SDU-AAAI-AD sentence pairs\n",
    "- To do: creat pairs with the same acronym but different meanings an label 0"
   ]
  },
  {
   "cell_type": "code",
   "execution_count": 1,
   "id": "ccfc274c",
   "metadata": {},
   "outputs": [
    {
     "name": "stdout",
     "output_type": "stream",
     "text": [
      "Number of data points:50034\n",
      "number of acronym matched pairs: 60001\n",
      "Number of acronym matched pairs in final csv: 60001\n",
      "Number of acronym mismatched pairs in final csv: 50031\n"
     ]
    }
   ],
   "source": [
    "import random\n",
    "import pandas as pd\n",
    "import numpy as np\n",
    "import matplotlib.pyplot as plt\n",
    "\n",
    "# Loading data\n",
    "sdu = pd.read_json('./BERT_datasets/train_OG.json')\n",
    "print(\"Number of data points:{}\".format(len(sdu['expansion'])))\n",
    "\n",
    "# Extracting the acronyms in words\n",
    "for index, row in sdu.iterrows():\n",
    "    acro = []\n",
    "    sdu.loc[index, 'short_form'] = row.tokens[row.acronym]\n",
    "    \n",
    "# Creating a copy and propper data types\n",
    "sdu_copy = sdu[['expansion','tokens','short_form']]\n",
    "sdu[['expansion','tokens','short_form']] = sdu[['expansion','tokens','short_form']].astype(\"string\")\n",
    "sdu_copy = sdu_copy.astype({'expansion': str,'tokens': str,'short_form': str}, errors='raise') \n",
    "\n",
    "\n",
    "# Merging the two dataframes\n",
    "sdu_combi = sdu.merge(sdu_copy, how='outer', on='expansion')\n",
    "\n",
    "\n",
    "# finding the different sentence pairs\n",
    "sdu_combi['pair'] = np.where(sdu_combi['tokens_x'] == sdu_combi['tokens_y'], 0, 1)\n",
    "sdu_combi =sdu_combi[sdu_combi['pair'] == 1]\n",
    "sdu_combi =sdu_combi.sample(n=60001)\n",
    "print('number of acronym matched pairs: {}'.format(len(sdu_combi[sdu_combi['pair'] == 1])))\n",
    "#########################\n",
    "\n",
    "# Taking a sample\n",
    "sdu_copy = sdu_copy.sample(frac=1)\n",
    "\n",
    "# creating a temporary index with shift\n",
    "sdu_copy['index1'] = sdu_copy.index + 3\n",
    "sdu['index1'] = sdu.index\n",
    "\n",
    "# Joining the two dataframes\n",
    "sdu_combi_mix = sdu.merge(sdu_copy, how='left', on='index1')\n",
    "sdu_combi_mix.dropna(inplace=True)\n",
    "sdu_combi_mix = sdu_combi_mix.drop(columns=['index1', 'expansion_y'])\n",
    "sdu_combi_mix['pair'] = np.where(sdu_combi_mix['tokens_x'] == sdu_combi_mix['tokens_y'], 1, 0)\n",
    "sdu_combi_mix = sdu_combi_mix[sdu_combi_mix['pair'] == 0]\n",
    "\n",
    "# Joining and cleaning the combined dataset\n",
    "sdu_master = pd.concat([sdu_combi,sdu_combi_mix], axis=0)\n",
    "sdu_master = sdu_master.drop(columns=['expansion_x', 'id'])\n",
    "sdu_master.reset_index(inplace=True)\n",
    "\n",
    "print('Number of acronym matched pairs in final csv: {}'.format(len(sdu_master[sdu_master['pair'] == 1])))\n",
    "print('Number of acronym mismatched pairs in final csv: {}'.format(len(sdu_master[sdu_master['pair'] == 0])))\n",
    "# print(sdu_master.head().to_string())\n",
    "\n",
    "# saving df as .csv and .json\n",
    "# sdu_master.to_csv('SDU-AAAI-AD_sentence_pairs_BERT.csv')\n",
    "# sdu_master.to_json('SDU-AAAI-AD_sentence_pairs_BERT.json')\n",
    "\n",
    "# cleaning Memmory\n",
    "del sdu_copy, sdu, sdu_combi_mix"
   ]
  },
  {
   "cell_type": "markdown",
   "id": "5fa39f2c",
   "metadata": {},
   "source": [
    "## Dataset property check"
   ]
  },
  {
   "cell_type": "code",
   "execution_count": 2,
   "id": "1a19bbdd",
   "metadata": {},
   "outputs": [
    {
     "name": "stdout",
     "output_type": "stream",
     "text": [
      "Total number of Sentence pairs in the master dataset\n",
      "Sentence true pairs in the master dataset\n",
      "Sentence false pairs in the master dataset\n"
     ]
    },
    {
     "data": {
      "text/plain": [
       "<BarContainer object of 2 artists>"
      ]
     },
     "execution_count": 2,
     "metadata": {},
     "output_type": "execute_result"
    },
    {
     "data": {
      "image/png": "[encoded data removed]",
      "text/plain": [
       "<Figure size 432x288 with 1 Axes>"
      ]
     },
     "metadata": {
      "needs_background": "light"
     },
     "output_type": "display_data"
    }
   ],
   "source": [
    "# Dataset check\n",
    "sdu_master_1 = sdu_master[sdu_master['pair'] == 1]\n",
    "sdu_master_0 = sdu_master[sdu_master['pair'] == 0]\n",
    "\n",
    "print('Total number of Sentence pairs in the master dataset'.format(len(sdu_master)))\n",
    "print('Sentence true pairs in the master dataset'.format(len(sdu_master_1)))\n",
    "print('Sentence false pairs in the master dataset'.format(len(sdu_master_0)))\n",
    "\n",
    "# Hisogram of distribution\n",
    "plt.bar(x=[1,2],height=sdu_master['pair'].value_counts())"
   ]
  },
  {
   "cell_type": "markdown",
   "id": "da41d3e2",
   "metadata": {},
   "source": [
    "## Loading Veyseh sentence datasets\n",
    "- To Do, create sentence pairs for BERT training"
   ]
  },
  {
   "cell_type": "code",
   "execution_count": 3,
   "id": "62a75cfa",
   "metadata": {},
   "outputs": [],
   "source": [
    "import pandas as pd\n",
    "import numpy as np\n",
    "import plotly.express as px\n",
    "from plotly.subplots import make_subplots"
   ]
  },
  {
   "cell_type": "code",
   "execution_count": 4,
   "id": "c62a8cb9",
   "metadata": {},
   "outputs": [],
   "source": [
    "# links to the data \n",
    "legal_data_link = 'https://raw.githubusercontent.com/amirveyseh/AAAI-22-SDU-shared-task-1-AE/main/data/english/legal/train.json'\n",
    "scientific_data_link = 'https://raw.githubusercontent.com/amirveyseh/AAAI-22-SDU-shared-task-1-AE/main/data/english/scientific/train.json'\n",
    "\n",
    "# scientific data\n",
    "scientific_data = pd.read_json(scientific_data_link)\n",
    "scientific_data.set_index('ID',inplace=True)\n",
    "\n",
    "# legal data\n",
    "legal_data = pd.read_json(legal_data_link)\n",
    "legal_data.set_index('ID',inplace=True)"
   ]
  },
  {
   "cell_type": "code",
   "execution_count": 5,
   "id": "ede8df72",
   "metadata": {},
   "outputs": [
    {
     "data": {
      "text/html": [
       "<div>\n",
       "<style scoped>\n",
       "    .dataframe tbody tr th:only-of-type {\n",
       "        vertical-align: middle;\n",
       "    }\n",
       "\n",
       "    .dataframe tbody tr th {\n",
       "        vertical-align: top;\n",
       "    }\n",
       "\n",
       "    .dataframe thead th {\n",
       "        text-align: right;\n",
       "    }\n",
       "</style>\n",
       "<table border=\"1\" class=\"dataframe\">\n",
       "  <thead>\n",
       "    <tr style=\"text-align: right;\">\n",
       "      <th></th>\n",
       "      <th>text</th>\n",
       "      <th>acronyms</th>\n",
       "      <th>long-forms</th>\n",
       "    </tr>\n",
       "    <tr>\n",
       "      <th>ID</th>\n",
       "      <th></th>\n",
       "      <th></th>\n",
       "      <th></th>\n",
       "    </tr>\n",
       "  </thead>\n",
       "  <tbody>\n",
       "    <tr>\n",
       "      <th>1</th>\n",
       "      <td>92\\]. This selective approach led to significa...</td>\n",
       "      <td>[[91, 98]]</td>\n",
       "      <td>[[77, 89]]</td>\n",
       "    </tr>\n",
       "    <tr>\n",
       "      <th>2</th>\n",
       "      <td>We conduct a case study of dialectal language ...</td>\n",
       "      <td>[[119, 122]]</td>\n",
       "      <td>[[93, 117]]</td>\n",
       "    </tr>\n",
       "    <tr>\n",
       "      <th>3</th>\n",
       "      <td>An arguably better approach to representation...</td>\n",
       "      <td>[[91, 94]]</td>\n",
       "      <td>[[59, 89]]</td>\n",
       "    </tr>\n",
       "    <tr>\n",
       "      <th>4</th>\n",
       "      <td>23-28, 1992   Proceedings of NAACL-HLT 2015 St...</td>\n",
       "      <td>[[71, 74], [29, 38]]</td>\n",
       "      <td>[[44, 69]]</td>\n",
       "    </tr>\n",
       "    <tr>\n",
       "      <th>5</th>\n",
       "      <td>itly mark objects of prepositions (POBJ), poss...</td>\n",
       "      <td>[[119, 121], [35, 39], [76, 81], [95, 99], [16...</td>\n",
       "      <td>[[105, 117], [10, 33], [56, 74], [84, 93], [15...</td>\n",
       "    </tr>\n",
       "    <tr>\n",
       "      <th>6</th>\n",
       "      <td>The metrics Precision (P), Recall (R),  F-scor...</td>\n",
       "      <td>[[107, 110], [83, 87]]</td>\n",
       "      <td>[[93, 105], [12, 21], [27, 33], [40, 47], [67,...</td>\n",
       "    </tr>\n",
       "    <tr>\n",
       "      <th>7</th>\n",
       "      <td>158  I. CONSTRUCT THE PROPOSED ANCHORS for Un ...</td>\n",
       "      <td>[[88, 92]]</td>\n",
       "      <td>[[65, 86]]</td>\n",
       "    </tr>\n",
       "    <tr>\n",
       "      <th>8</th>\n",
       "      <td>Hong Kong Laws, Sinorama, Xinhua News, and Eng...</td>\n",
       "      <td>[[132, 135]]</td>\n",
       "      <td>[[104, 130]]</td>\n",
       "    </tr>\n",
       "    <tr>\n",
       "      <th>9</th>\n",
       "      <td>uation test sets. Equal Error Rates (EER), whe...</td>\n",
       "      <td>[[54, 56], [37, 40], [49, 51], [91, 95]]</td>\n",
       "      <td>[[18, 35]]</td>\n",
       "    </tr>\n",
       "    <tr>\n",
       "      <th>10</th>\n",
       "      <td>Draw Team (DT_DT); Team ? Competition (TM_CP);...</td>\n",
       "      <td>[[39, 44], [11, 16]]</td>\n",
       "      <td>[[33, 37], [0, 9]]</td>\n",
       "    </tr>\n",
       "  </tbody>\n",
       "</table>\n",
       "</div>"
      ],
      "text/plain": [
       "                                                 text  \\\n",
       "ID                                                      \n",
       "1   92\\]. This selective approach led to significa...   \n",
       "2   We conduct a case study of dialectal language ...   \n",
       "3    An arguably better approach to representation...   \n",
       "4   23-28, 1992   Proceedings of NAACL-HLT 2015 St...   \n",
       "5   itly mark objects of prepositions (POBJ), poss...   \n",
       "6   The metrics Precision (P), Recall (R),  F-scor...   \n",
       "7   158  I. CONSTRUCT THE PROPOSED ANCHORS for Un ...   \n",
       "8   Hong Kong Laws, Sinorama, Xinhua News, and Eng...   \n",
       "9   uation test sets. Equal Error Rates (EER), whe...   \n",
       "10  Draw Team (DT_DT); Team ? Competition (TM_CP);...   \n",
       "\n",
       "                                             acronyms  \\\n",
       "ID                                                      \n",
       "1                                          [[91, 98]]   \n",
       "2                                        [[119, 122]]   \n",
       "3                                          [[91, 94]]   \n",
       "4                                [[71, 74], [29, 38]]   \n",
       "5   [[119, 121], [35, 39], [76, 81], [95, 99], [16...   \n",
       "6                              [[107, 110], [83, 87]]   \n",
       "7                                          [[88, 92]]   \n",
       "8                                        [[132, 135]]   \n",
       "9            [[54, 56], [37, 40], [49, 51], [91, 95]]   \n",
       "10                               [[39, 44], [11, 16]]   \n",
       "\n",
       "                                           long-forms  \n",
       "ID                                                     \n",
       "1                                          [[77, 89]]  \n",
       "2                                         [[93, 117]]  \n",
       "3                                          [[59, 89]]  \n",
       "4                                          [[44, 69]]  \n",
       "5   [[105, 117], [10, 33], [56, 74], [84, 93], [15...  \n",
       "6   [[93, 105], [12, 21], [27, 33], [40, 47], [67,...  \n",
       "7                                          [[65, 86]]  \n",
       "8                                        [[104, 130]]  \n",
       "9                                          [[18, 35]]  \n",
       "10                                 [[33, 37], [0, 9]]  "
      ]
     },
     "execution_count": 5,
     "metadata": {},
     "output_type": "execute_result"
    }
   ],
   "source": [
    "scientific_data.head(10)"
   ]
  },
  {
   "cell_type": "markdown",
   "id": "f62118cf",
   "metadata": {},
   "source": [
    "## Creating a list with the acronyms in text"
   ]
  },
  {
   "cell_type": "code",
   "execution_count": 6,
   "id": "97e96ded",
   "metadata": {},
   "outputs": [],
   "source": [
    "scientific_data = scientific_data.head(10)"
   ]
  },
  {
   "cell_type": "code",
   "execution_count": 7,
   "id": "53de69f3",
   "metadata": {},
   "outputs": [
    {
     "ename": "ValueError",
     "evalue": "Must have equal len keys and value when setting with an iterable",
     "output_type": "error",
     "traceback": [
      "\u001b[0;31m---------------------------------------------------------------------------\u001b[0m",
      "\u001b[0;31mValueError\u001b[0m                                Traceback (most recent call last)",
      "Input \u001b[0;32mIn [7]\u001b[0m, in \u001b[0;36m<cell line: 1>\u001b[0;34m()\u001b[0m\n\u001b[1;32m      4\u001b[0m \u001b[38;5;28;01mfor\u001b[39;00m i, j \u001b[38;5;129;01min\u001b[39;00m row[\u001b[38;5;124m'\u001b[39m\u001b[38;5;124macronyms\u001b[39m\u001b[38;5;124m'\u001b[39m]:\n\u001b[1;32m      5\u001b[0m     acro\u001b[38;5;241m.\u001b[39mappend(row\u001b[38;5;241m.\u001b[39mtext[i:j])\n\u001b[0;32m----> 8\u001b[0m scientific_data\u001b[38;5;241m.\u001b[39mloc[index, \u001b[38;5;124m'\u001b[39m\u001b[38;5;124mshort_form\u001b[39m\u001b[38;5;124m'\u001b[39m] \u001b[38;5;241m=\u001b[39m acro\n",
      "File \u001b[0;32m~/opt/anaconda3/lib/python3.8/site-packages/pandas/core/indexing.py:716\u001b[0m, in \u001b[0;36m_LocationIndexer.__setitem__\u001b[0;34m(self, key, value)\u001b[0m\n\u001b[1;32m    713\u001b[0m \u001b[38;5;28mself\u001b[39m\u001b[38;5;241m.\u001b[39m_has_valid_setitem_indexer(key)\n\u001b[1;32m    715\u001b[0m iloc \u001b[38;5;241m=\u001b[39m \u001b[38;5;28mself\u001b[39m \u001b[38;5;28;01mif\u001b[39;00m \u001b[38;5;28mself\u001b[39m\u001b[38;5;241m.\u001b[39mname \u001b[38;5;241m==\u001b[39m \u001b[38;5;124m\"\u001b[39m\u001b[38;5;124miloc\u001b[39m\u001b[38;5;124m\"\u001b[39m \u001b[38;5;28;01melse\u001b[39;00m \u001b[38;5;28mself\u001b[39m\u001b[38;5;241m.\u001b[39mobj\u001b[38;5;241m.\u001b[39miloc\n\u001b[0;32m--> 716\u001b[0m \u001b[43miloc\u001b[49m\u001b[38;5;241;43m.\u001b[39;49m\u001b[43m_setitem_with_indexer\u001b[49m\u001b[43m(\u001b[49m\u001b[43mindexer\u001b[49m\u001b[43m,\u001b[49m\u001b[43m \u001b[49m\u001b[43mvalue\u001b[49m\u001b[43m,\u001b[49m\u001b[43m \u001b[49m\u001b[38;5;28;43mself\u001b[39;49m\u001b[38;5;241;43m.\u001b[39;49m\u001b[43mname\u001b[49m\u001b[43m)\u001b[49m\n",
      "File \u001b[0;32m~/opt/anaconda3/lib/python3.8/site-packages/pandas/core/indexing.py:1688\u001b[0m, in \u001b[0;36m_iLocIndexer._setitem_with_indexer\u001b[0;34m(self, indexer, value, name)\u001b[0m\n\u001b[1;32m   1685\u001b[0m \u001b[38;5;66;03m# align and set the values\u001b[39;00m\n\u001b[1;32m   1686\u001b[0m \u001b[38;5;28;01mif\u001b[39;00m take_split_path:\n\u001b[1;32m   1687\u001b[0m     \u001b[38;5;66;03m# We have to operate column-wise\u001b[39;00m\n\u001b[0;32m-> 1688\u001b[0m     \u001b[38;5;28;43mself\u001b[39;49m\u001b[38;5;241;43m.\u001b[39;49m\u001b[43m_setitem_with_indexer_split_path\u001b[49m\u001b[43m(\u001b[49m\u001b[43mindexer\u001b[49m\u001b[43m,\u001b[49m\u001b[43m \u001b[49m\u001b[43mvalue\u001b[49m\u001b[43m,\u001b[49m\u001b[43m \u001b[49m\u001b[43mname\u001b[49m\u001b[43m)\u001b[49m\n\u001b[1;32m   1689\u001b[0m \u001b[38;5;28;01melse\u001b[39;00m:\n\u001b[1;32m   1690\u001b[0m     \u001b[38;5;28mself\u001b[39m\u001b[38;5;241m.\u001b[39m_setitem_single_block(indexer, value, name)\n",
      "File \u001b[0;32m~/opt/anaconda3/lib/python3.8/site-packages/pandas/core/indexing.py:1743\u001b[0m, in \u001b[0;36m_iLocIndexer._setitem_with_indexer_split_path\u001b[0;34m(self, indexer, value, name)\u001b[0m\n\u001b[1;32m   1738\u001b[0m     \u001b[38;5;28;01mif\u001b[39;00m \u001b[38;5;28mlen\u001b[39m(value) \u001b[38;5;241m==\u001b[39m \u001b[38;5;241m1\u001b[39m \u001b[38;5;129;01mand\u001b[39;00m \u001b[38;5;129;01mnot\u001b[39;00m is_integer(info_axis):\n\u001b[1;32m   1739\u001b[0m         \u001b[38;5;66;03m# This is a case like df.iloc[:3, [1]] = [0]\u001b[39;00m\n\u001b[1;32m   1740\u001b[0m         \u001b[38;5;66;03m#  where we treat as df.iloc[:3, 1] = 0\u001b[39;00m\n\u001b[1;32m   1741\u001b[0m         \u001b[38;5;28;01mreturn\u001b[39;00m \u001b[38;5;28mself\u001b[39m\u001b[38;5;241m.\u001b[39m_setitem_with_indexer((pi, info_axis[\u001b[38;5;241m0\u001b[39m]), value[\u001b[38;5;241m0\u001b[39m])\n\u001b[0;32m-> 1743\u001b[0m     \u001b[38;5;28;01mraise\u001b[39;00m \u001b[38;5;167;01mValueError\u001b[39;00m(\n\u001b[1;32m   1744\u001b[0m         \u001b[38;5;124m\"\u001b[39m\u001b[38;5;124mMust have equal len keys and value \u001b[39m\u001b[38;5;124m\"\u001b[39m\n\u001b[1;32m   1745\u001b[0m         \u001b[38;5;124m\"\u001b[39m\u001b[38;5;124mwhen setting with an iterable\u001b[39m\u001b[38;5;124m\"\u001b[39m\n\u001b[1;32m   1746\u001b[0m     )\n\u001b[1;32m   1748\u001b[0m \u001b[38;5;28;01melif\u001b[39;00m lplane_indexer \u001b[38;5;241m==\u001b[39m \u001b[38;5;241m0\u001b[39m \u001b[38;5;129;01mand\u001b[39;00m \u001b[38;5;28mlen\u001b[39m(value) \u001b[38;5;241m==\u001b[39m \u001b[38;5;28mlen\u001b[39m(\u001b[38;5;28mself\u001b[39m\u001b[38;5;241m.\u001b[39mobj\u001b[38;5;241m.\u001b[39mindex):\n\u001b[1;32m   1749\u001b[0m     \u001b[38;5;66;03m# We get here in one case via .loc with a all-False mask\u001b[39;00m\n\u001b[1;32m   1750\u001b[0m     \u001b[38;5;28;01mpass\u001b[39;00m\n",
      "\u001b[0;31mValueError\u001b[0m: Must have equal len keys and value when setting with an iterable"
     ]
    }
   ],
   "source": [
    "for index, row in scientific_data.iterrows():\n",
    "    acro = []\n",
    "\n",
    "    for i, j in row['acronyms']:\n",
    "        acro.append(row.text[i:j])\n",
    "\n",
    "    \n",
    "    scientific_data.loc[index, 'short_form'] = acro\n",
    "\n"
   ]
  },
  {
   "cell_type": "code",
   "execution_count": null,
   "id": "949d6195",
   "metadata": {},
   "outputs": [],
   "source": [
    "scientific_data"
   ]
  },
  {
   "cell_type": "code",
   "execution_count": null,
   "id": "5e3f49d8",
   "metadata": {},
   "outputs": [],
   "source": [
    "# to do's: \n",
    "# - look for a way to return the indexis of the matching short forms "
   ]
  },
  {
   "cell_type": "code",
   "execution_count": null,
   "id": "fbd051c0",
   "metadata": {},
   "outputs": [],
   "source": [
    "test = scientific_data['short_form'].to_list()"
   ]
  },
  {
   "cell_type": "code",
   "execution_count": null,
   "id": "2e3df186",
   "metadata": {
    "scrolled": false
   },
   "outputs": [],
   "source": [
    "for index, row in scientific_data.iterrows():\n",
    "    row_index = []\n",
    "    for i in test:\n",
    "        for j in i:\n",
    "            if j in row.text:\n",
    "                row_index.append(index)\n",
    "\n",
    "                scientific_data.loc[index, 'row_index'] = row_index\n",
    "            else:\n",
    "                pass"
   ]
  }
 ],
 "metadata": {
  "kernelspec": {
   "display_name": "Python 3 (ipykernel)",
   "language": "python",
   "name": "python3"
  },
  "language_info": {
   "codemirror_mode": {
    "name": "ipython",
    "version": 3
   },
   "file_extension": ".py",
   "mimetype": "text/x-python",
   "name": "python",
   "nbconvert_exporter": "python",
   "pygments_lexer": "ipython3",
   "version": "3.8.12"
  }
 },
 "nbformat": 4,
 "nbformat_minor": 5
}
